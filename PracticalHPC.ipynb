{
 "cells": [
  {
   "cell_type": "markdown",
   "metadata": {},
   "source": [
    "# Quick Review of cluster architecture\n",
    "\n",
    "(diagram goes here)\n"
   ]
  },
  {
   "cell_type": "markdown",
   "metadata": {},
   "source": [
    "# Quick Review of Slurm allocations\n",
    "\n",
    "$ srun [options] batch.sh\n",
    "\n",
    "option | example | comment\n",
    "-------|--------|---\n",
    "-c _cores_ | -c 20 | cores/task on single node\n",
    "-n _tasks_ | -n 4 | mpi progs only\n",
    "-N _nodes_ | -N 10 | never useful\n",
    "-t _time_  | -t 7-, -t 3:00 | job killed if exceeded\n",
    "--mem=_mem_ | --mem=16g | ditto\n",
    "--mem-per-cpu=_mem_ | --mem-per-cpu=8g | ditto\n",
    "-J _name_ | -J myjob | for user only\n"
   ]
  },
  {
   "cell_type": "markdown",
   "metadata": {},
   "source": [
    "# Thinking about memory requirements\n",
    "- default 5GB/core on our clusters\n",
    "- strictly enforced; jobs exceeding limit killed\n",
    "- you can request custom memory per node or core\n"
   ]
  },
  {
   "cell_type": "markdown",
   "metadata": {},
   "source": [
    "# Determining memory requirements\n",
    "After successful run, determine actual usage:\n",
    "- ssh to node, run \n",
    "    \"top -o RES -u _netid_\"\n",
    "    look at RES column\n",
    "- /usr/bin/time -a _prog args_\n",
    "- sacct -o 'JobID,MaxRSS,MaxVMSize' -j _jobid_\n",
    "- remora"
   ]
  },
  {
   "cell_type": "markdown",
   "metadata": {},
   "source": [
    "# Remora\n",
    "https://github.com/TACC/remora\n",
    "\n",
    "module load REMORA\n",
    "remora prog args ...\n",
    "\n",
    "This will create a directory: remora_jobid\n",
    "\n",
    "Copy (rsync) to local computer, open remora_summary.html with browser \n",
    "\n"
   ]
  }
 ],
 "metadata": {
  "anaconda-cloud": {},
  "kernelspec": {
   "display_name": "Python [conda root]",
   "language": "python",
   "name": "conda-root-py"
  },
  "language_info": {
   "codemirror_mode": {
    "name": "ipython",
    "version": 3
   },
   "file_extension": ".py",
   "mimetype": "text/x-python",
   "name": "python",
   "nbconvert_exporter": "python",
   "pygments_lexer": "ipython3",
   "version": "3.5.2"
  }
 },
 "nbformat": 4,
 "nbformat_minor": 1
}
